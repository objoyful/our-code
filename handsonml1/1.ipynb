{
 "cells": [
  {
   "cell_type": "markdown",
   "metadata": {},
   "source": [
    "- Supervised Learning\n",
    "    - Regression and Classification\n",
    "    - k-Nearest Neighbors\n",
    "    - Linear Regression\n",
    "    - Logistic Regression\n",
    "    - Support Vector Machine (SVM)\n",
    "    - Decision Tree and Random Forest\n",
    "    - Neural Networks\n",
    "- Unsupervised Leanring\n",
    "    - Clustering\n",
    "        - k-Means\n",
    "        - Hierarchical Cluster Analysis (HCA)\n",
    "        - Expectation Maximization\n",
    "    - Visualization and Dimensionality Reduction\n",
    "        - Principal Component Analysis (PCA)\n",
    "        - Kernel PCA\n",
    "        - Locally-Linear Embedding (LLE)\n",
    "        - t-distributed Stochastic Neighbor Embedding (t-SNE)\n",
    "    - Association Rule Learning\n",
    "        - Apriori\n",
    "        - Eclat\n",
    "- Semisupervised Learning\n",
    "    - Deep Belief Networks (DBN)\n",
    "        - Restricted Boltzmann Machine (RBM)\n",
    "- Reinforcement Learning\n",
    "    - agent\n",
    "    - reward (or penalty)\n",
    "    - policy\n",
    "    - DeepMind's AlphaGo"
   ]
  },
  {
   "cell_type": "markdown",
   "metadata": {},
   "source": [
    "- Batch Learning\n",
    "    - Offline Learning\n",
    "    - Uses all data at once\n",
    "    - lr=1\n",
    "- Online Learning\n",
    "    - mini-batches (sometimes just called \"batches\")\n",
    "    - out-of-core learning\n",
    "    - learning rate\n",
    "    - batch size"
   ]
  },
  {
   "cell_type": "markdown",
   "metadata": {},
   "source": [
    "- Instance-based Learning\n",
    "    - learn on the fly\n",
    "    - email spam filter\n",
    "    - measure of similarity\n",
    "- Model-based Learning\n",
    "    - model\n",
    "    - predictions\n",
    "    - parameters\n",
    "    - utility function (or cost function)"
   ]
  },
  {
   "cell_type": "code",
   "execution_count": 26,
   "metadata": {},
   "outputs": [],
   "source": [
    "def prepare_country_stats(oecd_bli, gdp_per_capita, gdp_type=\"NGDPDPC\"):\n",
    "    oecd_bli = oecd_bli[oecd_bli[\"INEQUALITY\"]==\"TOT\"]\n",
    "    oecd_bli = oecd_bli.pivot(index=\"Country\", columns=\"Indicator\", values=\"OBS_VALUE\")\n",
    "    \n",
    "    gdp_per_capita = gdp_per_capita[gdp_per_capita[\"WEO Subject Code\"]==gdp_type]\n",
    "    gdp_per_capita = gdp_per_capita.pivot(index=\"Country\", columns=\"WEO Subject Code\", values=\"2023\")\n",
    "    gdp_per_capita.rename(columns={gdp_type: \"GDP per capita\"}, inplace=True)\n",
    "    gdp_per_capita[\"GDP per capita\"] = gdp_per_capita[\"GDP per capita\"].str.replace(',', '').astype(float)\n",
    "\n",
    "    full_country_stats = pd.merge(left=oecd_bli, right=gdp_per_capita,\n",
    "                                  left_index=True, right_index=True)\n",
    "    full_country_stats.sort_values(by=\"GDP per capita\", inplace=True)\n",
    "    \n",
    "    remove_indices = [0, 1, 6, 8, 33, 34, 35]\n",
    "    keep_indices = list(set(range(36)) - set(remove_indices))\n",
    "    \n",
    "    return full_country_stats[[\"GDP per capita\", 'Life satisfaction']].iloc[keep_indices]\n",
    "    # return full_country_stats[[\"GDP per capita\", 'Life satisfaction']]"
   ]
  },
  {
   "cell_type": "code",
   "execution_count": 27,
   "metadata": {},
   "outputs": [
    {
     "data": {
      "image/png": "[encoded data removed]",
      "text/plain": [
       "<Figure size 640x480 with 1 Axes>"
      ]
     },
     "metadata": {},
     "output_type": "display_data"
    },
    {
     "name": "stdout",
     "output_type": "stream",
     "text": [
      "[[6.5125147]]\n"
     ]
    }
   ],
   "source": [
    "import matplotlib\n",
    "import matplotlib.pyplot as plt\n",
    "import numpy as np\n",
    "import pandas as pd\n",
    "import sklearn.linear_model\n",
    "\n",
    "# Load the data\n",
    "oecd_bli = pd.read_csv(\"OECD,DF_BLI,+all.csv\", thousands=',')\n",
    "gdp_per_capita = pd.read_csv(\"WEOApr2024all.csv\", thousands=',', delimiter=',',\n",
    "                             encoding='latin1', na_values=\"n/a\")\n",
    "\n",
    "# Prepare the data\n",
    "country_stats = prepare_country_stats(oecd_bli, gdp_per_capita) # type: ignore\n",
    "X = np.c_[country_stats[\"GDP per capita\"]]\n",
    "y = np.c_[country_stats[\"Life satisfaction\"]]\n",
    "\n",
    "# Visualize the data\n",
    "country_stats.plot(kind='scatter', x=\"GDP per capita\", y='Life satisfaction')\n",
    "plt.show()\n",
    "\n",
    "# Select a linear model\n",
    "model = sklearn.linear_model.LinearRegression()\n",
    "\n",
    "# Train the model\n",
    "model.fit(X, y)\n",
    "\n",
    "# Make a prediction for Cyprus\n",
    "X_new = [[34956]]\n",
    "print(model.predict(X_new))"
   ]
  },
  {
   "cell_type": "markdown",
   "metadata": {},
   "source": [
    "- Not enough data\n",
    "- Nonrepresentative data\n",
    "    - Outliers\n",
    "- Bad Quality Data\n",
    "    - Noisy\n",
    "    - Missing Values\n",
    "- Irrelevant Features\n",
    "- Overfitting\n",
    "    - Simplify Model\n",
    "        - Fewer Parameters\n",
    "    - More Training data\n",
    "    - Reduce Noise in training data\n",
    "    - Regularization\n",
    "- Underfitting\n",
    "    - Larger, more powerful model\n",
    "    - Pick better features\n"
   ]
  },
  {
   "cell_type": "markdown",
   "metadata": {},
   "source": [
    "- Cross-validation\n",
    "    - Train (train the model)\n",
    "    - Validate (pick hyperparameters)\n",
    "- Test (Final model evaluation)"
   ]
  }
 ],
 "metadata": {
  "kernelspec": {
   "display_name": "Python 3",
   "language": "python",
   "name": "python3"
  },
  "language_info": {
   "codemirror_mode": {
    "name": "ipython",
    "version": 3
   },
   "file_extension": ".py",
   "mimetype": "text/x-python",
   "name": "python",
   "nbconvert_exporter": "python",
   "pygments_lexer": "ipython3",
   "version": "3.11.6"
  }
 },
 "nbformat": 4,
 "nbformat_minor": 2
}

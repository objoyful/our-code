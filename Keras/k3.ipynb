{
 "cells": [
  {
   "cell_type": "code",
   "execution_count": 3,
   "metadata": {},
   "outputs": [],
   "source": [
    "import tensorflow as tf\n",
    "from tensorflow import keras\n",
    "from keras.models import Sequential\n",
    "from keras.layers import Dense, Dropout, Activation, Flatten, Conv2D, MaxPooling2D\n",
    "import pickle\n",
    "import os\n",
    "\n",
    "with open(os.path.join(\"k2-data\", \"X.pickle\"), 'rb') as f:\n",
    "    X = pickle.load(f)\n",
    "\n",
    "with open(os.path.join(\"k2-data\", \"y.pickle\"), 'rb') as f:\n",
    "    y = pickle.load(f)\n",
    "\n",
    "X = X / 255.0"
   ]
  },
  {
   "cell_type": "code",
   "execution_count": 8,
   "metadata": {},
   "outputs": [
    {
     "name": "stdout",
     "output_type": "stream",
     "text": [
      "Epoch 1/10\n",
      "702/702 [==============================] - 5s 7ms/step - loss: 0.6020 - accuracy: 0.6614 - val_loss: 0.5162 - val_accuracy: 0.7483\n",
      "Epoch 2/10\n",
      "702/702 [==============================] - 5s 7ms/step - loss: 0.4775 - accuracy: 0.7704 - val_loss: 0.4628 - val_accuracy: 0.7912\n",
      "Epoch 3/10\n",
      "702/702 [==============================] - 5s 7ms/step - loss: 0.4174 - accuracy: 0.8080 - val_loss: 0.4403 - val_accuracy: 0.7988\n",
      "Epoch 4/10\n",
      "702/702 [==============================] - 5s 7ms/step - loss: 0.3626 - accuracy: 0.8375 - val_loss: 0.4589 - val_accuracy: 0.7956\n",
      "Epoch 5/10\n",
      "702/702 [==============================] - 5s 7ms/step - loss: 0.3101 - accuracy: 0.8641 - val_loss: 0.4791 - val_accuracy: 0.8000\n",
      "Epoch 6/10\n",
      "702/702 [==============================] - 5s 7ms/step - loss: 0.2494 - accuracy: 0.8949 - val_loss: 0.5538 - val_accuracy: 0.7836\n",
      "Epoch 7/10\n",
      "702/702 [==============================] - 5s 7ms/step - loss: 0.1921 - accuracy: 0.9211 - val_loss: 0.5659 - val_accuracy: 0.8000\n",
      "Epoch 8/10\n",
      "702/702 [==============================] - 5s 7ms/step - loss: 0.1356 - accuracy: 0.9467 - val_loss: 0.6327 - val_accuracy: 0.7948\n",
      "Epoch 9/10\n",
      "702/702 [==============================] - 5s 7ms/step - loss: 0.0952 - accuracy: 0.9659 - val_loss: 0.8213 - val_accuracy: 0.7896\n",
      "Epoch 10/10\n",
      "702/702 [==============================] - 5s 7ms/step - loss: 0.0667 - accuracy: 0.9774 - val_loss: 0.8711 - val_accuracy: 0.7776\n"
     ]
    },
    {
     "data": {
      "text/plain": [
       "<keras.callbacks.History at 0x27c07713ac0>"
      ]
     },
     "execution_count": 8,
     "metadata": {},
     "output_type": "execute_result"
    }
   ],
   "source": [
    "model = Sequential()\n",
    "\n",
    "model.add(Conv2D(64, (3, 3), input_shape=X.shape[1:]))\n",
    "model.add(Activation('relu'))\n",
    "model.add(MaxPooling2D(pool_size=(2, 2)))\n",
    "\n",
    "model.add(Conv2D(64, (3, 3)))\n",
    "model.add(Activation('relu'))\n",
    "model.add(MaxPooling2D(pool_size=(2, 2)))\n",
    "\n",
    "model.add(Flatten())\n",
    "model.add(Dense(64))\n",
    "model.add(Activation('relu'))\n",
    "\n",
    "model.add(Dense(2))\n",
    "model.add(Activation('softmax'))\n",
    "\n",
    "model.compile(loss='binary_crossentropy',\n",
    "              optimizer='adam',\n",
    "              metrics=['accuracy'])\n",
    "\n",
    "model.fit(X, y, batch_size=32, validation_split=0.1, epochs=10)"
   ]
  },
  {
   "cell_type": "code",
   "execution_count": null,
   "metadata": {},
   "outputs": [],
   "source": []
  }
 ],
 "metadata": {
  "kernelspec": {
   "display_name": "Python 3",
   "language": "python",
   "name": "python3"
  },
  "language_info": {
   "codemirror_mode": {
    "name": "ipython",
    "version": 3
   },
   "file_extension": ".py",
   "mimetype": "text/x-python",
   "name": "python",
   "nbconvert_exporter": "python",
   "pygments_lexer": "ipython3",
   "version": "3.9.6"
  },
  "orig_nbformat": 4
 },
 "nbformat": 4,
 "nbformat_minor": 2
}
